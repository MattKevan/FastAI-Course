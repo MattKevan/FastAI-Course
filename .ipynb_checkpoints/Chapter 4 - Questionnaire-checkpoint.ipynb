{
 "cells": [
  {
   "cell_type": "markdown",
   "id": "aae56f6d-6bff-4ec5-b466-b3887cf3bfce",
   "metadata": {
    "editable": true,
    "slideshow": {
     "slide_type": ""
    },
    "tags": []
   },
   "source": [
    "## Chapter 4 questionnaire\n",
    "\n",
    "\n",
    "\n",
    "\n",
    "\n",
    "\n",
    "\n",
    "What is a \"rank-3 tensor\"?\n",
    "\n",
    "What is the difference between tensor rank and shape? How do you get the rank from the shape?\n",
    "\n",
    "What are RMSE and L1 norm?\n",
    "\n",
    "How can you apply a calculation on thousands of numbers at once, many thousands of times faster than a Python loop?\n",
    "\n",
    "Create a 3×3 tensor or array containing the numbers from 1 to 9. Double it. \n",
    "\n",
    "Select the bottom-right four numbers.\n",
    "\n",
    "What is broadcasting?\n",
    "\n",
    "Are metrics generally calculated using the training set, or the validation set? Why?\n",
    "\n",
    "What is SGD?\n",
    "\n",
    "Why does SGD use mini-batches?\n",
    "\n",
    "What are the seven steps in SGD for machine learning?\n",
    "\n",
    "How do we initialize the weights in a model?\n",
    "\n",
    "What is \"loss\"?\n",
    "\n",
    "Why can't we always use a high learning rate?\n",
    "\n",
    "What is a \"gradient\"?\n",
    "\n",
    "Do you need to know how to calculate gradients yourself?\n",
    "\n",
    "Why can't we use accuracy as a loss function?\n",
    "\n",
    "Draw the sigmoid function. What is special about its shape?\n",
    "\n",
    "What is the difference between a loss function and a metric?\n",
    "\n",
    "What is the function to calculate new weights using a learning rate?\n",
    "\n",
    "What does the DataLoader class do?\n",
    "\n",
    "Write pseudocode showing the basic steps taken in each epoch for SGD.\n",
    "\n",
    "Create a function that, if passed two arguments [1,2,3,4] and 'abcd', \n",
    "returns [(1, 'a'), (2, 'b'), (3, 'c'), (4, 'd')]. What is special about that output data structure?\n",
    "\n",
    "What does view do in PyTorch?\n",
    "\n",
    "What are the \"bias\" parameters in a neural network? Why do we need them?\n",
    "\n",
    "What does the @ operator do in Python?\n",
    "\n",
    "What does the backward method do?\n",
    "\n",
    "Why do we have to zero the gradients?\n",
    "\n",
    "What information do we have to pass to Learner?\n",
    "\n",
    "Show Python or pseudocode for the basic steps of a training loop.\n",
    "\n",
    "What is \"ReLU\"? Draw a plot of it for values from -2 to +2.\n",
    "\n",
    "What is an \"activation function\"?\n",
    "\n",
    "What's the difference between F.relu and nn.ReLU?\n",
    "\n",
    "The universal approximation theorem shows that any function can be approximated as closely as needed using just one nonlinearity. So why do we normally use more?\n",
    "\n",
    "## Further Research\n",
    "\n",
    "Create your own implementation of Learner from scratch, based on the training loop shown in this chapter.\n",
    "\n",
    "Complete all the steps in this chapter using the full MNIST datasets (that is, for all digits, not just 3s and 7s). This is a significant project and will take you quite a bit of time to complete! You'll need to do some of your own research to figure out how to overcome some obstacles you'll meet on the way."
   ]
  },
  {
   "cell_type": "markdown",
   "id": "c8ec6e41-f6b6-4fa9-80ea-d5b154a03af4",
   "metadata": {},
   "source": [
    "### 1. How is a grayscale image represented on a computer? How about a color image?\n",
    "\n",
    "Greyscale images are represented by a number between 0 and 255, 0 meaning black and 255 meaning white. Colour images use a similar value for each RGB pixel, 0 being black and 255 being a solid colour."
   ]
  },
  {
   "cell_type": "markdown",
   "id": "1faedbbd-c2f9-48ca-9d9d-6fc4338079bd",
   "metadata": {
    "editable": true,
    "jp-MarkdownHeadingCollapsed": true,
    "slideshow": {
     "slide_type": ""
    },
    "tags": []
   },
   "source": [
    "### 2. How are the files and folders in the MNIST_SAMPLE dataset structured? Why?\n",
    "\n",
    "The dataset is set into two main folder, train and sample. Within each folder the images are sorted into folders called the label name. For example all the images of 7s are in the 7 folder. Images are split into train and sample, in order that the model is never validated on the training dataset. This helps stop the model from overfitting, only able to recognise images in the dataset."
   ]
  },
  {
   "cell_type": "markdown",
   "id": "c939647b-910f-417c-8aec-35037255ebdb",
   "metadata": {},
   "source": [
    "### 3. Explain how the \"pixel similarity\" approach to classifying digits works.\n",
    "\n"
   ]
  },
  {
   "cell_type": "markdown",
   "id": "a9141636-b772-4f7e-904c-67036ef29516",
   "metadata": {},
   "source": [
    "### 4. What is a list comprehension? Create one now that selects odd numbers from a list and doubles them."
   ]
  },
  {
   "cell_type": "markdown",
   "id": "af8eb7aa-bedf-4b16-a38b-7f10d02a963c",
   "metadata": {},
   "source": [
    "List comprehensions are a way of creating a new list based on the values of a previous one"
   ]
  },
  {
   "cell_type": "code",
   "execution_count": 3,
   "id": "962df628-5287-469f-a93d-1908ee80a36c",
   "metadata": {},
   "outputs": [
    {
     "name": "stdout",
     "output_type": "stream",
     "text": [
      "[0, 1, 2, 3, 4, 5, 6, 7, 8, 9, 10, 11, 12, 13, 14, 15, 16, 17, 18, 19, 20]\n"
     ]
    }
   ],
   "source": [
    "numbers = list(range(10+1))\n",
    "print(numbers)"
   ]
  },
  {
   "cell_type": "code",
   "execution_count": 5,
   "id": "d9449326-712e-4734-ae24-b30a7ff83f4a",
   "metadata": {},
   "outputs": [
    {
     "ename": "SyntaxError",
     "evalue": "invalid syntax (1841833908.py, line 1)",
     "output_type": "error",
     "traceback": [
      "\u001b[0;36m  Cell \u001b[0;32mIn[5], line 1\u001b[0;36m\u001b[0m\n\u001b[0;31m    newnumbers = (x * 2) for x in numbers\u001b[0m\n\u001b[0m                         ^\u001b[0m\n\u001b[0;31mSyntaxError\u001b[0m\u001b[0;31m:\u001b[0m invalid syntax\n"
     ]
    }
   ],
   "source": [
    "newnumbers = (x * 2) for x in numbers"
   ]
  },
  {
   "cell_type": "code",
   "execution_count": null,
   "id": "da56b37b-dccd-46b5-9e87-8011bbd5efe4",
   "metadata": {},
   "outputs": [],
   "source": [
    "print(newnumbers)"
   ]
  }
 ],
 "metadata": {
  "kernelspec": {
   "display_name": "Python 3 (ipykernel)",
   "language": "python",
   "name": "python3"
  },
  "language_info": {
   "codemirror_mode": {
    "name": "ipython",
    "version": 3
   },
   "file_extension": ".py",
   "mimetype": "text/x-python",
   "name": "python",
   "nbconvert_exporter": "python",
   "pygments_lexer": "ipython3",
   "version": "3.9.12"
  }
 },
 "nbformat": 4,
 "nbformat_minor": 5
}
