{
 "cells": [
  {
   "cell_type": "markdown",
   "id": "c7eab1e9-52f8-4e52-8cb6-7358819c0074",
   "metadata": {},
   "source": [
    "# Chapter 4 questionnaire"
   ]
  },
  {
   "cell_type": "code",
   "execution_count": 35,
   "id": "6e66cf21-90ad-44cd-b132-be67cc084920",
   "metadata": {
    "collapsed": true,
    "jupyter": {
     "outputs_hidden": true
    }
   },
   "outputs": [
    {
     "name": "stdout",
     "output_type": "stream",
     "text": [
      "Requirement already satisfied: torch in /Users/matt.kevan/miniconda3/lib/python3.9/site-packages (1.13.1)\n",
      "Requirement already satisfied: torchvision in /Users/matt.kevan/miniconda3/lib/python3.9/site-packages (0.14.1)\n",
      "Requirement already satisfied: fastai in /Users/matt.kevan/miniconda3/lib/python3.9/site-packages (2.7.12)\n",
      "Requirement already satisfied: typing-extensions in /Users/matt.kevan/miniconda3/lib/python3.9/site-packages (from torch) (4.4.0)\n",
      "Requirement already satisfied: numpy in /Users/matt.kevan/miniconda3/lib/python3.9/site-packages (from torchvision) (1.23.5)\n",
      "Requirement already satisfied: requests in /Users/matt.kevan/miniconda3/lib/python3.9/site-packages (from torchvision) (2.31.0)\n",
      "Requirement already satisfied: pillow!=8.3.*,>=5.3.0 in /Users/matt.kevan/miniconda3/lib/python3.9/site-packages (from torchvision) (9.4.0)\n",
      "Requirement already satisfied: packaging in /Users/matt.kevan/miniconda3/lib/python3.9/site-packages (from fastai) (23.0)\n",
      "Requirement already satisfied: fastcore<1.6,>=1.5.29 in /Users/matt.kevan/miniconda3/lib/python3.9/site-packages (from fastai) (1.5.29)\n",
      "Requirement already satisfied: matplotlib in /Users/matt.kevan/miniconda3/lib/python3.9/site-packages (from fastai) (3.6.3)\n",
      "Requirement already satisfied: spacy<4 in /Users/matt.kevan/miniconda3/lib/python3.9/site-packages (from fastai) (3.6.0)\n",
      "Requirement already satisfied: pip in /Users/matt.kevan/miniconda3/lib/python3.9/site-packages (from fastai) (21.2.4)\n",
      "Requirement already satisfied: fastprogress>=0.2.4 in /Users/matt.kevan/miniconda3/lib/python3.9/site-packages (from fastai) (1.0.3)\n",
      "Requirement already satisfied: scipy in /Users/matt.kevan/miniconda3/lib/python3.9/site-packages (from fastai) (1.10.0)\n",
      "Requirement already satisfied: fastdownload<2,>=0.0.5 in /Users/matt.kevan/miniconda3/lib/python3.9/site-packages (from fastai) (0.0.7)\n",
      "Requirement already satisfied: scikit-learn in /Users/matt.kevan/miniconda3/lib/python3.9/site-packages (from fastai) (1.3.0)\n",
      "Requirement already satisfied: pyyaml in /Users/matt.kevan/miniconda3/lib/python3.9/site-packages (from fastai) (6.0)\n",
      "Requirement already satisfied: pandas in /Users/matt.kevan/miniconda3/lib/python3.9/site-packages (from fastai) (2.0.3)\n",
      "Requirement already satisfied: srsly<3.0.0,>=2.4.3 in /Users/matt.kevan/miniconda3/lib/python3.9/site-packages (from spacy<4->fastai) (2.4.7)\n",
      "Requirement already satisfied: catalogue<2.1.0,>=2.0.6 in /Users/matt.kevan/miniconda3/lib/python3.9/site-packages (from spacy<4->fastai) (2.0.9)\n",
      "Requirement already satisfied: tqdm<5.0.0,>=4.38.0 in /Users/matt.kevan/miniconda3/lib/python3.9/site-packages (from spacy<4->fastai) (4.64.0)\n",
      "Requirement already satisfied: wasabi<1.2.0,>=0.9.1 in /Users/matt.kevan/miniconda3/lib/python3.9/site-packages (from spacy<4->fastai) (1.1.2)\n",
      "Requirement already satisfied: typer<0.10.0,>=0.3.0 in /Users/matt.kevan/miniconda3/lib/python3.9/site-packages (from spacy<4->fastai) (0.9.0)\n",
      "Requirement already satisfied: spacy-loggers<2.0.0,>=1.0.0 in /Users/matt.kevan/miniconda3/lib/python3.9/site-packages (from spacy<4->fastai) (1.0.4)\n",
      "Requirement already satisfied: setuptools in /Users/matt.kevan/miniconda3/lib/python3.9/site-packages (from spacy<4->fastai) (61.2.0)\n",
      "Requirement already satisfied: cymem<2.1.0,>=2.0.2 in /Users/matt.kevan/miniconda3/lib/python3.9/site-packages (from spacy<4->fastai) (2.0.7)\n",
      "Requirement already satisfied: murmurhash<1.1.0,>=0.28.0 in /Users/matt.kevan/miniconda3/lib/python3.9/site-packages (from spacy<4->fastai) (1.0.9)\n",
      "Requirement already satisfied: pathy>=0.10.0 in /Users/matt.kevan/miniconda3/lib/python3.9/site-packages (from spacy<4->fastai) (0.10.2)\n",
      "Requirement already satisfied: jinja2 in /Users/matt.kevan/miniconda3/lib/python3.9/site-packages (from spacy<4->fastai) (3.1.2)\n",
      "Requirement already satisfied: spacy-legacy<3.1.0,>=3.0.11 in /Users/matt.kevan/miniconda3/lib/python3.9/site-packages (from spacy<4->fastai) (3.0.12)\n",
      "Requirement already satisfied: smart-open<7.0.0,>=5.2.1 in /Users/matt.kevan/miniconda3/lib/python3.9/site-packages (from spacy<4->fastai) (6.3.0)\n",
      "Requirement already satisfied: thinc<8.2.0,>=8.1.8 in /Users/matt.kevan/miniconda3/lib/python3.9/site-packages (from spacy<4->fastai) (8.1.10)\n",
      "Requirement already satisfied: langcodes<4.0.0,>=3.2.0 in /Users/matt.kevan/miniconda3/lib/python3.9/site-packages (from spacy<4->fastai) (3.3.0)\n",
      "Requirement already satisfied: preshed<3.1.0,>=3.0.2 in /Users/matt.kevan/miniconda3/lib/python3.9/site-packages (from spacy<4->fastai) (3.0.8)\n",
      "Requirement already satisfied: pydantic!=1.8,!=1.8.1,<1.11.0,>=1.7.4 in /Users/matt.kevan/miniconda3/lib/python3.9/site-packages (from spacy<4->fastai) (1.10.12)\n",
      "Requirement already satisfied: idna<4,>=2.5 in /Users/matt.kevan/miniconda3/lib/python3.9/site-packages (from requests->torchvision) (3.3)\n",
      "Requirement already satisfied: urllib3<3,>=1.21.1 in /Users/matt.kevan/miniconda3/lib/python3.9/site-packages (from requests->torchvision) (1.26.9)\n",
      "Requirement already satisfied: certifi>=2017.4.17 in /Users/matt.kevan/miniconda3/lib/python3.9/site-packages (from requests->torchvision) (2022.5.18.1)\n",
      "Requirement already satisfied: charset-normalizer<4,>=2 in /Users/matt.kevan/miniconda3/lib/python3.9/site-packages (from requests->torchvision) (2.0.4)\n",
      "Requirement already satisfied: confection<1.0.0,>=0.0.1 in /Users/matt.kevan/miniconda3/lib/python3.9/site-packages (from thinc<8.2.0,>=8.1.8->spacy<4->fastai) (0.1.0)\n",
      "Requirement already satisfied: blis<0.8.0,>=0.7.8 in /Users/matt.kevan/miniconda3/lib/python3.9/site-packages (from thinc<8.2.0,>=8.1.8->spacy<4->fastai) (0.7.10)\n",
      "Requirement already satisfied: click<9.0.0,>=7.1.1 in /Users/matt.kevan/miniconda3/lib/python3.9/site-packages (from typer<0.10.0,>=0.3.0->spacy<4->fastai) (8.1.3)\n",
      "Requirement already satisfied: MarkupSafe>=2.0 in /Users/matt.kevan/miniconda3/lib/python3.9/site-packages (from jinja2->spacy<4->fastai) (2.1.3)\n",
      "Requirement already satisfied: python-dateutil>=2.7 in /Users/matt.kevan/miniconda3/lib/python3.9/site-packages (from matplotlib->fastai) (2.8.2)\n",
      "Requirement already satisfied: contourpy>=1.0.1 in /Users/matt.kevan/miniconda3/lib/python3.9/site-packages (from matplotlib->fastai) (1.0.7)\n",
      "Requirement already satisfied: kiwisolver>=1.0.1 in /Users/matt.kevan/miniconda3/lib/python3.9/site-packages (from matplotlib->fastai) (1.4.4)\n",
      "Requirement already satisfied: pyparsing>=2.2.1 in /Users/matt.kevan/miniconda3/lib/python3.9/site-packages (from matplotlib->fastai) (3.0.9)\n",
      "Requirement already satisfied: cycler>=0.10 in /Users/matt.kevan/miniconda3/lib/python3.9/site-packages (from matplotlib->fastai) (0.11.0)\n",
      "Requirement already satisfied: fonttools>=4.22.0 in /Users/matt.kevan/miniconda3/lib/python3.9/site-packages (from matplotlib->fastai) (4.38.0)\n",
      "Requirement already satisfied: six>=1.5 in /Users/matt.kevan/miniconda3/lib/python3.9/site-packages (from python-dateutil>=2.7->matplotlib->fastai) (1.16.0)\n",
      "Requirement already satisfied: tzdata>=2022.1 in /Users/matt.kevan/miniconda3/lib/python3.9/site-packages (from pandas->fastai) (2023.3)\n",
      "Requirement already satisfied: pytz>=2020.1 in /Users/matt.kevan/miniconda3/lib/python3.9/site-packages (from pandas->fastai) (2023.3)\n",
      "Requirement already satisfied: threadpoolctl>=2.0.0 in /Users/matt.kevan/miniconda3/lib/python3.9/site-packages (from scikit-learn->fastai) (3.2.0)\n",
      "Requirement already satisfied: joblib>=1.1.1 in /Users/matt.kevan/miniconda3/lib/python3.9/site-packages (from scikit-learn->fastai) (1.3.1)\n"
     ]
    }
   ],
   "source": [
    "!pip install torch torchvision fastai\n",
    "from fastai.vision.all import *\n",
    "import torch"
   ]
  },
  {
   "cell_type": "markdown",
   "id": "c8ec6e41-f6b6-4fa9-80ea-d5b154a03af4",
   "metadata": {},
   "source": [
    "### 1. How is a grayscale image represented on a computer? How about a color image?\n",
    "\n",
    "Greyscale images are represented by a number between 0 and 255, 0 meaning black and 255 meaning white. Colour images use a similar value for each RGB pixel, 0 being black and 255 being a solid colour. This is if they're 8-bit images. 16bit images store colour values differently, depending on the file format and whether there's a transparency/alpha channel. Also the ranges are skewed to match the perception of the eye as the image colour gamut and therefore the number of colours available is larger than what the eye can actually see."
   ]
  },
  {
   "cell_type": "markdown",
   "id": "1faedbbd-c2f9-48ca-9d9d-6fc4338079bd",
   "metadata": {
    "editable": true,
    "slideshow": {
     "slide_type": ""
    },
    "tags": []
   },
   "source": [
    "### 2. How are the files and folders in the MNIST_SAMPLE dataset structured? Why?\n",
    "\n",
    "The dataset is set into two main folder, train and sample. Within each folder the images are sorted into folders called the label name. For example all the images of 7s are in the 7 folder. Images are split into train and sample, in order that the model is never validated on the training dataset. This helps stop the model from overfitting, only able to recognise images in the dataset."
   ]
  },
  {
   "cell_type": "markdown",
   "id": "c939647b-910f-417c-8aec-35037255ebdb",
   "metadata": {},
   "source": [
    "### 3. Explain how the \"pixel similarity\" approach to classifying digits works.\n",
    "\n"
   ]
  },
  {
   "cell_type": "markdown",
   "id": "a9141636-b772-4f7e-904c-67036ef29516",
   "metadata": {},
   "source": [
    "### 4. What is a list comprehension? Create one now that selects odd numbers from a list and doubles them."
   ]
  },
  {
   "cell_type": "markdown",
   "id": "af8eb7aa-bedf-4b16-a38b-7f10d02a963c",
   "metadata": {},
   "source": [
    "List comprehensions are a way of creating a new list based on the values of a previous one"
   ]
  },
  {
   "cell_type": "code",
   "execution_count": 16,
   "id": "962df628-5287-469f-a93d-1908ee80a36c",
   "metadata": {},
   "outputs": [
    {
     "name": "stdout",
     "output_type": "stream",
     "text": [
      "[0, 1, 2, 3, 4, 5, 6, 7, 8, 9, 10]\n"
     ]
    }
   ],
   "source": [
    "numbers = list(range(10+1))\n",
    "print(numbers)"
   ]
  },
  {
   "cell_type": "code",
   "execution_count": 19,
   "id": "d9449326-712e-4734-ae24-b30a7ff83f4a",
   "metadata": {},
   "outputs": [
    {
     "name": "stdout",
     "output_type": "stream",
     "text": [
      "[2, 6, 10, 14, 18]\n"
     ]
    }
   ],
   "source": [
    "newnumbers = [x * 2 for x in numbers if x % 2 == 1]\n",
    "print(newnumbers)"
   ]
  },
  {
   "cell_type": "markdown",
   "id": "7ea9f1c8-6fd0-4fb6-9742-22a464c77f58",
   "metadata": {
    "jp-MarkdownHeadingCollapsed": true
   },
   "source": [
    "### 5. What is a \"rank-3 tensor\"?\n",
    "\n",
    "Tensors are arrays that carry numerical data. These arrays can have multiple dimensions, which is why they're also called multidimensional arrays.\n",
    "\n",
    "A rank-3 tensor has three dimensions. For example, a colour image could be described as a rank-3 tensor with the shape: [3,512,512]. Here, the first number represents the red, green and blue colour channels, the second number is the pixel height and the third the pixel width."
   ]
  },
  {
   "cell_type": "markdown",
   "id": "01ac440a-7e98-4597-a315-1625ef8ee0bf",
   "metadata": {},
   "source": [
    "### 6. What is the difference between tensor rank and shape? How do you get the rank from the shape?\n",
    "\n",
    "The shape of a tensor is the length of each dimension, whereas the shape is the number of dimensions. "
   ]
  },
  {
   "cell_type": "code",
   "execution_count": 37,
   "id": "6326e7c2-92a6-4dd2-b106-e26b8f32bf7e",
   "metadata": {},
   "outputs": [
    {
     "data": {
      "text/plain": [
       "torch.Size([3, 3])"
      ]
     },
     "execution_count": 37,
     "metadata": {},
     "output_type": "execute_result"
    }
   ],
   "source": [
    "mydata = [\n",
    "    [1,2,3],\n",
    "    [4,5,6],\n",
    "    [7,8,9]\n",
    "]\n",
    "mytensor = tensor(mydata)\n",
    "\n",
    "mytensor.shape # Displays the shape of the tensor"
   ]
  },
  {
   "cell_type": "code",
   "execution_count": 39,
   "id": "e9391abf-486b-4006-b952-c60d21d243e9",
   "metadata": {},
   "outputs": [
    {
     "data": {
      "text/plain": [
       "2"
      ]
     },
     "execution_count": 39,
     "metadata": {},
     "output_type": "execute_result"
    }
   ],
   "source": [
    "len(mytensor.shape) # Displays the rank"
   ]
  },
  {
   "cell_type": "code",
   "execution_count": 38,
   "id": "96ef81df-4bef-4c33-8a67-0f9ec529cef5",
   "metadata": {},
   "outputs": [
    {
     "data": {
      "text/plain": [
       "2"
      ]
     },
     "execution_count": 38,
     "metadata": {},
     "output_type": "execute_result"
    }
   ],
   "source": [
    "mytensor.ndim # Also displays the rank"
   ]
  },
  {
   "cell_type": "markdown",
   "id": "a0a8821b-cfb6-48c2-bd6c-7379ed23b4d7",
   "metadata": {},
   "source": [
    "### 7. What are RMSE and L1 norm?\n",
    "\n",
    "RMSE (root mean squared error) measures the average difference between a statistical model's predicted values and the actual values. Low RMSE values mean the model fits the data well and has more precise predictions.\n",
    "\n",
    "\n",
    "The L1 norm, or mean absolute difference, is the average distance between each data point and the mean."
   ]
  },
  {
   "cell_type": "markdown",
   "id": "40a3a46d-019e-4a30-b7de-6ead09a5c8ba",
   "metadata": {},
   "source": [
    "### 8. How can you apply a calculation on thousands of numbers at once, many thousands of times faster than a Python loop?\n",
    "\n",
    "Pytorch and Numpy are wrappers for compiled objects written in C. This means they're much faster than anything written in Python. Additionally, Pytorch uses the GPU for calculations, accelerating things further."
   ]
  },
  {
   "cell_type": "markdown",
   "id": "8c00c92a-845d-4bee-a469-3a9eea3e177e",
   "metadata": {},
   "source": [
    "### 9. Create a 3×3 tensor or array containing the numbers from 1 to 9, double it. "
   ]
  },
  {
   "cell_type": "code",
   "execution_count": 8,
   "id": "ba041137-8e7d-4a08-833f-1b1900288c4e",
   "metadata": {},
   "outputs": [],
   "source": [
    "mydata = [\n",
    "    [1,2,3],\n",
    "    [4,5,6],\n",
    "    [7,8,9]\n",
    "]\n",
    "mytensor = tensor(mydata)"
   ]
  },
  {
   "cell_type": "code",
   "execution_count": 9,
   "id": "ea6b7e1d-53bf-4f18-8cce-91f6886d8bff",
   "metadata": {},
   "outputs": [
    {
     "data": {
      "text/plain": [
       "tensor([[1, 2, 3],\n",
       "        [4, 5, 6],\n",
       "        [7, 8, 9]])"
      ]
     },
     "execution_count": 9,
     "metadata": {},
     "output_type": "execute_result"
    }
   ],
   "source": [
    "mytensor"
   ]
  },
  {
   "cell_type": "code",
   "execution_count": 10,
   "id": "b334f41a-c96e-4989-b5ed-13b03e1c379e",
   "metadata": {},
   "outputs": [
    {
     "data": {
      "text/plain": [
       "tensor([[ 2,  4,  6],\n",
       "        [ 8, 10, 12],\n",
       "        [14, 16, 18]])"
      ]
     },
     "execution_count": 10,
     "metadata": {},
     "output_type": "execute_result"
    }
   ],
   "source": [
    "newtensor = mytensor * 2\n",
    "newtensor"
   ]
  },
  {
   "cell_type": "markdown",
   "id": "b73ee4c4-cfee-4266-8739-0a0241a5e9e9",
   "metadata": {},
   "source": [
    "### 10. Select the bottom-right four numbers.\n"
   ]
  },
  {
   "cell_type": "markdown",
   "id": "2f79c2e0-0f37-4383-ba50-19e2821e64fd",
   "metadata": {},
   "source": [
    "### 11. What is broadcasting?\n"
   ]
  },
  {
   "cell_type": "markdown",
   "id": "842b2807-69e5-4994-bea9-d2fce744402d",
   "metadata": {},
   "source": [
    "Are metrics generally calculated using the training set, or the validation set? Why?\n"
   ]
  },
  {
   "cell_type": "markdown",
   "id": "ba33e1c6-c82a-42d4-8d82-1d1900794f73",
   "metadata": {},
   "source": [
    "What is SGD?\n"
   ]
  },
  {
   "cell_type": "markdown",
   "id": "76a884e3-4dd5-4d6a-b320-e483f289c522",
   "metadata": {},
   "source": [
    "Why does SGD use mini-batches?\n"
   ]
  },
  {
   "cell_type": "markdown",
   "id": "b2eb9642-1b45-48c1-8e7e-fc0da14c5a44",
   "metadata": {},
   "source": [
    "What are the seven steps in SGD for machine learning?\n"
   ]
  },
  {
   "cell_type": "markdown",
   "id": "5d04045e-9de8-49b1-9d77-de3ded2d132b",
   "metadata": {},
   "source": [
    "How do we initialize the weights in a model?\n"
   ]
  },
  {
   "cell_type": "markdown",
   "id": "c500034e-bc9f-42da-9d79-77d274280975",
   "metadata": {},
   "source": [
    "What is \"loss\"?\n"
   ]
  },
  {
   "cell_type": "markdown",
   "id": "07e21dcd-3233-43ee-b22f-a7056e8fdef1",
   "metadata": {},
   "source": [
    "Why can't we always use a high learning rate?\n"
   ]
  },
  {
   "cell_type": "markdown",
   "id": "06ec3027-f69e-4ec0-b2e9-bad270f127c1",
   "metadata": {},
   "source": [
    "What is a \"gradient\"?\n"
   ]
  },
  {
   "cell_type": "markdown",
   "id": "b257771e-26b8-44e5-9d26-08ef8fa968df",
   "metadata": {},
   "source": [
    "Do you need to know how to calculate gradients yourself?\n"
   ]
  },
  {
   "cell_type": "markdown",
   "id": "0be18f25-065f-4bc1-b1b1-4a150a59ed76",
   "metadata": {},
   "source": [
    "Why can't we use accuracy as a loss function?\n"
   ]
  },
  {
   "cell_type": "code",
   "execution_count": null,
   "id": "94e6ed64-dae4-4f71-8273-fc300b655e29",
   "metadata": {},
   "outputs": [],
   "source": [
    "Draw the sigmoid function. What is special about its shape?\n"
   ]
  },
  {
   "cell_type": "code",
   "execution_count": null,
   "id": "f1287127-3f57-42ea-be78-010a89b666f8",
   "metadata": {},
   "outputs": [],
   "source": [
    "What is the difference between a loss function and a metric?\n"
   ]
  },
  {
   "cell_type": "code",
   "execution_count": null,
   "id": "853eff35-6b03-4e1a-bad6-dc23192461ef",
   "metadata": {},
   "outputs": [],
   "source": [
    "What is the function to calculate new weights using a learning rate?\n"
   ]
  },
  {
   "cell_type": "code",
   "execution_count": null,
   "id": "f7bfd410-2229-4e9e-ac31-fb6b3ce503af",
   "metadata": {},
   "outputs": [],
   "source": [
    "What does the DataLoader class do?\n"
   ]
  },
  {
   "cell_type": "code",
   "execution_count": null,
   "id": "569b2cfa-28f9-467e-b795-602fd24c7c70",
   "metadata": {},
   "outputs": [],
   "source": [
    "Write pseudocode showing the basic steps taken in each epoch for SGD.\n"
   ]
  },
  {
   "cell_type": "markdown",
   "id": "d40151c8-d11e-4f07-8a40-df5eed0badb3",
   "metadata": {},
   "source": [
    "Create a function that, if passed two arguments [1,2,3,4] and 'abcd', \n",
    "returns [(1, 'a'), (2, 'b'), (3, 'c'), (4, 'd')]. What is special about that output data structure?"
   ]
  },
  {
   "cell_type": "code",
   "execution_count": null,
   "id": "324bde2e-9ff8-4dfd-9af5-efcec75ba003",
   "metadata": {},
   "outputs": [],
   "source": [
    "What does view do in PyTorch?\n"
   ]
  },
  {
   "cell_type": "code",
   "execution_count": null,
   "id": "cfe21d9a-db8f-4936-9ab1-0f56d9aed80f",
   "metadata": {},
   "outputs": [],
   "source": [
    "What are the \"bias\" parameters in a neural network? Why do we need them?\n"
   ]
  },
  {
   "cell_type": "code",
   "execution_count": null,
   "id": "32ea55b6-fc3d-4c19-9776-389dc47b6d72",
   "metadata": {},
   "outputs": [],
   "source": [
    "What does the @ operator do in Python?\n"
   ]
  },
  {
   "cell_type": "code",
   "execution_count": null,
   "id": "c8719c0b-faae-4c78-b833-1d5fc07dede3",
   "metadata": {},
   "outputs": [],
   "source": [
    "What does the backward method do?\n"
   ]
  },
  {
   "cell_type": "code",
   "execution_count": null,
   "id": "eb00800c-5a37-48a0-90b6-e51dd1bdfd7c",
   "metadata": {},
   "outputs": [],
   "source": [
    "Why do we have to zero the gradients?\n"
   ]
  },
  {
   "cell_type": "code",
   "execution_count": null,
   "id": "1c9be7be-41a5-47f3-b361-c7036a184bc0",
   "metadata": {},
   "outputs": [],
   "source": [
    "What information do we have to pass to Learner?\n"
   ]
  },
  {
   "cell_type": "markdown",
   "id": "9e2657e2-4689-43f7-881c-b8c3e01ce583",
   "metadata": {},
   "source": [
    "Show Python or pseudocode for the basic steps of a training loop.\n"
   ]
  },
  {
   "cell_type": "markdown",
   "id": "d94464d5-638c-4e4f-8558-ff7c9ac88014",
   "metadata": {},
   "source": [
    "What is \"ReLU\"? Draw a plot of it for values from -2 to +2.\n"
   ]
  },
  {
   "cell_type": "markdown",
   "id": "76f4e58b-6040-4af9-8363-80b5cd133796",
   "metadata": {},
   "source": [
    "What is an \"activation function\"?\n"
   ]
  },
  {
   "cell_type": "markdown",
   "id": "df5e5c10-2df6-4fc0-abd2-83f09e29683e",
   "metadata": {},
   "source": [
    "What's the difference between F.relu and nn.ReLU?\n"
   ]
  },
  {
   "cell_type": "markdown",
   "id": "64a50ab8-64ad-49b8-b221-33cc0e312298",
   "metadata": {},
   "source": [
    "The universal approximation theorem shows that any function can be approximated as closely as needed using just one nonlinearity. So why do we normally use more?\n"
   ]
  },
  {
   "cell_type": "markdown",
   "id": "163584fa-408d-4d34-a35f-136655e140ae",
   "metadata": {},
   "source": [
    "## Further Research\n",
    "\n",
    "Create your own implementation of Learner from scratch, based on the training loop shown in this chapter."
   ]
  },
  {
   "cell_type": "markdown",
   "id": "aae56f6d-6bff-4ec5-b466-b3887cf3bfce",
   "metadata": {
    "editable": true,
    "slideshow": {
     "slide_type": ""
    },
    "tags": []
   },
   "source": [
    "Complete all the steps in this chapter using the full MNIST datasets (that is, for all digits, not just 3s and 7s). This is a significant project and will take you quite a bit of time to complete! You'll need to do some of your own research to figure out how to overcome some obstacles you'll meet on the way."
   ]
  },
  {
   "cell_type": "code",
   "execution_count": null,
   "id": "52b1daa8-1994-468e-9535-255b3529ce30",
   "metadata": {},
   "outputs": [],
   "source": []
  },
  {
   "cell_type": "code",
   "execution_count": null,
   "id": "2ba7f7b8-6cf5-4f47-963f-59145d2d8a01",
   "metadata": {},
   "outputs": [],
   "source": []
  }
 ],
 "metadata": {
  "kernelspec": {
   "display_name": "Python 3 (ipykernel)",
   "language": "python",
   "name": "python3"
  },
  "language_info": {
   "codemirror_mode": {
    "name": "ipython",
    "version": 3
   },
   "file_extension": ".py",
   "mimetype": "text/x-python",
   "name": "python",
   "nbconvert_exporter": "python",
   "pygments_lexer": "ipython3",
   "version": "3.9.12"
  }
 },
 "nbformat": 4,
 "nbformat_minor": 5
}
